{
 "cells": [
  {
   "cell_type": "markdown",
   "metadata": {},
   "source": [
    "# What is Neuron?"
   ]
  },
  {
   "cell_type": "markdown",
   "metadata": {},
   "source": [
    "- neuron simulation software\n",
    "- fast and efficient, with large databases "
   ]
  },
  {
   "cell_type": "markdown",
   "metadata": {},
   "source": [
    "# How does NEURON work? \n",
    "\n",
    "- written in HOC language interpreter \n",
    "- now have python support\n",
    "- and add extra emmbrane mechanism using NMODL files\n",
    "\n",
    "## Modelling axons\n",
    "\n",
    "- membrane modelled as resistance and capicitance\n",
    "- also modelled in terms of sections into segments"
   ]
  },
  {
   "cell_type": "code",
   "execution_count": 1,
   "metadata": {},
   "outputs": [
    {
     "data": {
      "text/plain": [
       "__nrnsec_0x21be420"
      ]
     },
     "execution_count": 1,
     "metadata": {},
     "output_type": "execute_result"
    }
   ],
   "source": [
    "import neuron \n",
    "soma = neuron.h.Section() # set up a 'section'; abstract representation of a neuron, divided into segments\n",
    "# all section goes from 0 to 1 (two different ends), and are divided into segments\n",
    "dend = neuron.h.Section() # dendrite\n",
    "dend.connect(soma(1)) # connect dendrite to '1-end' segment of soma"
   ]
  },
  {
   "cell_type": "markdown",
   "metadata": {},
   "source": [
    "Distributed mechanisms and point processes: \n",
    "\n",
    "- *distributed mechanism* is attributed to the entire section \n",
    "    - eg. passive membrane current\n",
    "- a *point process* is specified at a single point along the section\n",
    "    - eg. voltage clamp"
   ]
  },
  {
   "cell_type": "markdown",
   "metadata": {},
   "source": [
    "Going beyond passive (pas) and Hogkin-Huxley (hh)\n",
    "\n",
    "- requires NMODL \n"
   ]
  },
  {
   "cell_type": "markdown",
   "metadata": {},
   "source": [
    "# Passive Properties"
   ]
  },
  {
   "cell_type": "markdown",
   "metadata": {},
   "source": [
    "## Make a ball model "
   ]
  },
  {
   "cell_type": "code",
   "execution_count": 14,
   "metadata": {},
   "outputs": [
    {
     "name": "stdout",
     "output_type": "stream",
     "text": [
      "{'point_processes': {}, 'density_mechs': {'pas': {'g': [0.001], 'e': [-70.0], 'i': [0.0]}}, 'ions': {}, 'morphology': {'L': 12.6157, 'diam': [12.6157], 'pts3d': [], 'parent': None, 'trueparent': None}, 'nseg': 1, 'Ra': 35.4, 'cm': [1.0], 'regions': set(), 'species': set(), 'name': 'soma', 'hoc_internal_name': '__nrnsec_0x2472300', 'cell': None}\n",
      "|-|       soma(0-1)\n",
      "|-|       soma(0-1)\n",
      "\n"
     ]
    },
    {
     "data": {
      "image/png": "[encoded data removed]",
      "text/plain": [
       "<Figure size 432x288 with 1 Axes>"
      ]
     },
     "metadata": {
      "needs_background": "light"
     },
     "output_type": "display_data"
    },
    {
     "name": "stdout",
     "output_type": "stream",
     "text": [
      "Input resistance is 199988546.61\n",
      "Membrane resistance is 0.10\n",
      "The Tau_M from theory is 0.10\n",
      "-63.679156407984614\n",
      "The Tau_M from experiment is 10.90\n"
     ]
    }
   ],
   "source": [
    "import neuron\n",
    "from neuron import gui\n",
    "from neuron import h\n",
    "import numpy as np\n",
    "import matplotlib.pyplot as plt\n",
    "soma = neuron.h.Section(name='soma')\n",
    "# dend = neuron.h.Section(name='dend')\n",
    "# dend.connect(soma(1))\n",
    "\n",
    "soma.L = 12.6157# 100 # 12.6157\n",
    "soma.diam = 12.6157 # 500 #12.6157\n",
    "\n",
    "soma.insert('pas')\n",
    "print(soma.psection())\n",
    "\n",
    "# neuron.h.delete_section('dend')\n",
    "\n",
    "# Ri: input resistance\n",
    "neuron.h.topology()\n",
    "\n",
    "# add point process: current injection \n",
    "stim = neuron.h.IClamp(soma(0.5))\n",
    "stim.delay = 10\n",
    "stim.dur = 10 # ms\n",
    "stim.amp = 0.05 # nA\n",
    "\n",
    "# measuring Ri and mTau\n",
    "# input_resistance_store = neuron.h.vector()\n",
    "# input_resistance_store.record()\n",
    "voltage = neuron.h.Vector()\n",
    "\n",
    "# measure voltage \n",
    "voltage.record(soma(0.5)._ref_v)\n",
    "\n",
    "\n",
    "m_tau_store = neuron.h.Vector()\n",
    "time = neuron.h.Vector()\n",
    "time.record(h._ref_t)\n",
    "\n",
    "# run \n",
    "total_time = 25\n",
    "neuron.h.load_file('stdrun.hoc')\n",
    "neuron.h.tstop = total_time\n",
    "h.v_init = -70 # initial voltage\n",
    "neuron.h.run() # ms\n",
    "\n",
    "plt.figure()\n",
    "# s = neuron.h.Shape()\n",
    "import seaborn as sns \n",
    "time_np = time.as_numpy()\n",
    "voltage_np = voltage.as_numpy()\n",
    "ax = sns.lineplot(time_np, voltage_np)\n",
    "ax.set(xlabel='Time (ms)', ylabel='Voltage (V)')\n",
    "sns.despine()\n",
    "plt.show()\n",
    "\n",
    "# print(time)\n",
    "# print(time_np)\n",
    "# print(voltage_np)\n",
    "\n",
    "# calculating the input resistance \n",
    "delta_V = (max(voltage_np) - min(voltage_np)) * 10**(-3)\n",
    "delta_Ie = 0.05 * 10**(-9)\n",
    "input_resistance = delta_V / delta_Ie\n",
    "print('Input resistance is %.2f' % input_resistance)\n",
    "\n",
    "\n",
    "# calculating Tau_m (time constant)\n",
    "R_i = input_resistance\n",
    "circum =  soma.diam  * np.pi \n",
    "length = soma.L\n",
    "A = (circum * 10**(-6)) * (length * 10 ** (-6)) \n",
    "R_m = R_i * A\n",
    "\n",
    "print('Membrane resistance is %.2f' % R_m)\n",
    "C_m = soma.cm\n",
    "tau_m = R_m * C_m \n",
    "print('The Tau_M from theory is %.2f' % tau_m)\n",
    "\n",
    "# Finding tau empirically \n",
    "# print(max(voltage_np))\n",
    "special_v = (max(voltage_np) - min(voltage_np)) * (1 - 1/np.e)\n",
    "special_vv = special_v + min(voltage_np)\n",
    "print(special_vv)\n",
    "# tau_m_samp = 11 # where V = special_v\n",
    "\n",
    "tauIndex = np.where(np.logical_and(voltage_np > special_vv - 0.5, voltage_np < special_vv + 0.5))\n",
    "tau_m_samp = tauIndex[0][0]\n",
    "\n",
    "tau_m_exp = time_np[tau_m_samp]\n",
    "print('The Tau_M from experiment is %.2f' % tau_m_exp)\n"
   ]
  },
  {
   "cell_type": "code",
   "execution_count": 13,
   "metadata": {
    "scrolled": true
   },
   "outputs": [
    {
     "name": "stdout",
     "output_type": "stream",
     "text": [
      "Input resistance is 199988546.61\n",
      "TauM is -10.00\n"
     ]
    },
    {
     "data": {
      "image/png": "[encoded data removed]",
      "text/plain": [
       "<Figure size 432x288 with 1 Axes>"
      ]
     },
     "metadata": {
      "needs_background": "light"
     },
     "output_type": "display_data"
    }
   ],
   "source": [
    "# writing things as a function \n",
    "import neuron \n",
    "from neuron import h, gui\n",
    "import numpy as np\n",
    "def run_ball_model():\n",
    "\n",
    "    return 1 \n",
    "\n",
    "def inject_current(soma = neuron.h.Section(name='soma'), somaLength = 12.6157,\n",
    "somaDiam = 12.6157, stimDur = 10, stimAmp = 0.05, stimDelay = 10, total_time = 25): \n",
    "    \n",
    "    soma.insert('pas')\n",
    "    soma.L = somaLength\n",
    "    soma.diam = somaDiam \n",
    "    \n",
    "    \n",
    "    # add point process: current injection \n",
    "    stim = neuron.h.IClamp(soma(0.5))\n",
    "    stim.delay = stimDelay\n",
    "    stim.dur = stimDur # ms\n",
    "    stim.amp = stimAmp # nA\n",
    "    \n",
    "    voltage = neuron.h.Vector()\n",
    "    # measure voltage \n",
    "    voltage.record(soma(0.5)._ref_v)\n",
    "    \n",
    "    # measure time\n",
    "    time = neuron.h.Vector()\n",
    "    time.record(h._ref_t)\n",
    "    \n",
    "    neuron.h.load_file('stdrun.hoc')\n",
    "    neuron.h.tstop = total_time\n",
    "    h.v_init = -70 # initial voltage\n",
    "    neuron.h.run() # ms\n",
    "    \n",
    "    time_np = time.as_numpy()\n",
    "    voltage_np = voltage.as_numpy()\n",
    "    \n",
    "    return voltage_np, time_np\n",
    "    \n",
    "\n",
    "def cal_Ri(voltage_np, stimAmp = 0.05):\n",
    "    \n",
    "    delta_V = (max(voltage_np) - min(voltage_np)) * 10**(-3)\n",
    "    delta_Ie = stimAmp * 10**(-9)\n",
    "    input_resistance = delta_V / delta_Ie\n",
    "    \n",
    "    return input_resistance\n",
    "\n",
    "def cal_TauM(voltage_np, time_np, stimDelay = 10):\n",
    "    # from \"experiment\"\n",
    "    special_v = (max(voltage_np) - min(voltage_np)) * (1 - 1/np.e)\n",
    "    special_vv = special_v + min(voltage_np)\n",
    "    # print(special_vv)\n",
    "    # tau_m_samp = 11 # where V = special_v\n",
    "\n",
    "    tauIndex = np.where(np.logical_and(voltage_np > special_vv - 0.5, voltage_np < special_vv + 0.5))\n",
    "    tau_m_samp = tauIndex[0][0]\n",
    "\n",
    "    tau_m_exp = time_np[tau_m_samp]\n",
    "    \n",
    "    TauM = tau_m_exp - stimDelay\n",
    "    \n",
    "    return TauM\n",
    "\n",
    "# test run \n",
    "voltage_np, time_np = inject_current()\n",
    "\n",
    "import seaborn as sns\n",
    "sns.lineplot(np.arange(len(voltage_np)),voltage_np)\n",
    "# sns.lineplot(time_np, voltage_np)\n",
    "\n",
    "input_resistance = cal_Ri(voltage_np)\n",
    "print('Input resistance is %.2f' % input_resistance)\n",
    "TauM = cal_TauM(voltage_np, time_np)\n",
    "print('TauM is %.2f' % TauM)\n"
   ]
  },
  {
   "cell_type": "markdown",
   "metadata": {},
   "source": [
    "Calculating $R_i$\n",
    "\n",
    "$$\n",
    "R_i = \\frac{\\Delta V}{\\Delta I_e}\n",
    "$$\n",
    "\n",
    "$$\n",
    "R_i = \\frac{1}{S_i \\sigma_i}\n",
    "$$\n",
    "\n",
    "Where: \n",
    "\n",
    " - $S_i$ is the section area\n",
    "  -$\\sigma_i$ is the \n",
    "\n",
    "Calculating $\\tau_m$: \n",
    "\n",
    "$$\n",
    "\\tau_m = R_m C_m\n",
    "$$\n"
   ]
  },
  {
   "cell_type": "code",
   "execution_count": 4,
   "metadata": {},
   "outputs": [
    {
     "name": "stdout",
     "output_type": "stream",
     "text": [
      "soma { nseg=1  L=12.6157  Ra=35.4\n",
      "\t/*location 0 attached to cell 0*/\n",
      "\t/* First segment only */\n",
      "\tinsert morphology { diam=12.6157}\n",
      "\tinsert capacitance { cm=1}\n",
      "\tinsert pas { g_pas=0.001 e_pas=-70}\n",
      "\tinsert IClamp { del=10 dur=10 amp=0.05}\n",
      "}\n"
     ]
    },
    {
     "data": {
      "text/plain": [
       "1.0"
      ]
     },
     "execution_count": 4,
     "metadata": {},
     "output_type": "execute_result"
    }
   ],
   "source": [
    "# Show neuron properties \n",
    "neuron.h.psection()"
   ]
  },
  {
   "cell_type": "markdown",
   "metadata": {},
   "source": [
    "## Varying neuron variables"
   ]
  },
  {
   "cell_type": "code",
   "execution_count": 17,
   "metadata": {},
   "outputs": [
    {
     "name": "stdout",
     "output_type": "stream",
     "text": [
      "[840998502.475179, 420499251.2375899, 280332834.158393, 210249625.61879474, 168199700.49503565]\n",
      "[0.9999999999999094, 0.9499999999999122, 0.9249999999999137, 0.8999999999999151, 0.8749999999999165]\n"
     ]
    }
   ],
   "source": [
    "# diam_list = [5, 10, 15, 20]\n",
    "g_list = [0.001, 0.01, 0.1, 1]\n",
    "Ra_list = [10, 20, 30, 40, 50]\n",
    "diam_list = [3, 6, 9, 12, 15]\n",
    "circum =  soma.diam  * np.pi \n",
    "length = soma.L\n",
    "A_list = (circum * 10**(-6)) * (length * 10 ** (-6)) \n",
    "# Ri_list = \n",
    "\n",
    "input_resistance_list = list()\n",
    "TauM_list = list()\n",
    "\n",
    "for diam in diam_list:\n",
    "    voltage_np, time_np = inject_current(soma = neuron.h.Section(name='soma'), somaLength = 12.6157,\n",
    "somaDiam = diam, stimDur = 10, stimAmp = 0.05, stimDelay = 10)\n",
    "    input_resistance_list.append(cal_Ri(voltage_np))\n",
    "    TauM_list.append(cal_TauM(voltage_np, time_np))\n",
    "\n",
    "    \n",
    "print(input_resistance_list)\n",
    "print(TauM_list)\n"
   ]
  },
  {
   "cell_type": "markdown",
   "metadata": {},
   "source": [
    "### Variation of input reistance and time constant with diameter"
   ]
  },
  {
   "cell_type": "code",
   "execution_count": 69,
   "metadata": {},
   "outputs": [
    {
     "data": {
      "image/png": "[encoded data removed]",
      "text/plain": [
       "<Figure size 432x288 with 1 Axes>"
      ]
     },
     "metadata": {},
     "output_type": "display_data"
    }
   ],
   "source": [
    "import seaborn as sns \n",
    "ax = sns.lineplot(diam_list, input_resistance_list)\n",
    "ax.set(xlabel='Diameter (\\mu m)', ylabel='Input resistance (\\Omega)')\n",
    "\n",
    "# aesthetics \n",
    "sns.set_context(\"paper\")\n",
    "sns.set_style(\"whitegrid\")\n",
    "sns.despine()"
   ]
  },
  {
   "cell_type": "code",
   "execution_count": 70,
   "metadata": {},
   "outputs": [
    {
     "data": {
      "image/png": "[encoded data removed]",
      "text/plain": [
       "<Figure size 432x288 with 1 Axes>"
      ]
     },
     "metadata": {},
     "output_type": "display_data"
    }
   ],
   "source": [
    "# time constant vs. diameter \n",
    "ax2 = sns.lineplot(diam_list, TauM_list)\n",
    "ax2.set(xlabel='Diameter (\\mu m)', ylabel='Time constant (ms)')\n",
    "\n",
    "# aesthetics \n",
    "sns.despine()\n"
   ]
  },
  {
   "cell_type": "markdown",
   "metadata": {},
   "source": [
    "## Adding dendrites and axons with increasing total area"
   ]
  },
  {
   "cell_type": "code",
   "execution_count": 7,
   "metadata": {},
   "outputs": [
    {
     "name": "stdout",
     "output_type": "stream",
     "text": [
      "|-|       soma(0-1)\n",
      "|-|       soma(0-1)\n",
      "|-|       soma(0-1)\n",
      "|-|       soma(0-1)\n",
      "   `|       dendrite(0-1)\n",
      " `|       axon(0-1)\n",
      "\n"
     ]
    },
    {
     "data": {
      "text/plain": [
       "<Figure size 432x288 with 0 Axes>"
      ]
     },
     "metadata": {},
     "output_type": "display_data"
    }
   ],
   "source": [
    "import neuron \n",
    "from neuron import h, gui\n",
    "dendrite_diam_list = [3, 6, 9, 12, 15]\n",
    "axon_diam_list = [3, 6, 9, 12, 15] \n",
    "\n",
    "# neuron.h.delete_section(neuron.h.SectionLists)\n",
    "\n",
    "soma = neuron.h.Section(name='soma') # set up a 'section'; abstract representation of a neuron, divided into segments\n",
    "# all section goes from 0 to 1 (two different ends), and are divided into segments\n",
    "dend = neuron.h.Section(name='dendrite') # dendrite\n",
    "dend.connect(soma(1)) \n",
    "\n",
    "axon = neuron.h.Section(name='axon')\n",
    "axon.connect(soma(0))\n",
    "\n",
    "neuron.h.topology()\n",
    "import matplotlib.pyplot as plt \n",
    "plt.figure()\n",
    "s = neuron.h.PlotShape()\n",
    "plt.show()"
   ]
  },
  {
   "cell_type": "code",
   "execution_count": 5,
   "metadata": {},
   "outputs": [
    {
     "name": "stdout",
     "output_type": "stream",
     "text": [
      "|-|       soma(0-1)\n",
      "   `|       dend[0](0-1)\n",
      "   `|       dend[1](0-1)\n",
      "   `|       dend[2](0-1)\n",
      "|-|       axon(0-1)\n",
      "\n"
     ]
    }
   ],
   "source": [
    "from neuron import h, gui\n",
    "soma = h.Section(name='soma')\n",
    "axon = h.Section(name='axon')\n",
    "dend = [h.Section(name='dend[%d]' % i) for i in range(3)]\n",
    "for sec in dend:\n",
    "    sec.connect(soma(1), 0)\n",
    "\n",
    "h.topology()\n",
    "s = h.Shape()"
   ]
  },
  {
   "cell_type": "markdown",
   "metadata": {},
   "source": [
    "# Active properties"
   ]
  },
  {
   "cell_type": "code",
   "execution_count": 3,
   "metadata": {},
   "outputs": [
    {
     "name": "stdout",
     "output_type": "stream",
     "text": [
      "|-|       soma(0-1)\n",
      "|-|       soma_hh(0-1)\n",
      "\n",
      "[2.68249899e-316 6.91304410e-310 6.91304021e-310 ... 0.00000000e+000\n",
      " 0.00000000e+000 0.00000000e+000]\n"
     ]
    },
    {
     "data": {
      "image/png": "[encoded data removed]",
      "text/plain": [
       "<Figure size 432x288 with 1 Axes>"
      ]
     },
     "metadata": {
      "needs_background": "light"
     },
     "output_type": "display_data"
    }
   ],
   "source": [
    "from neuron import h, gui\n",
    "import neuron\n",
    "soma_hh = h.Section(name='soma_hh')\n",
    "soma_hh.insert('hh')\n",
    "soma_hh.gnabar_hh = 0.12 # peak sodium conductance\n",
    "\n",
    "# view cell structure \n",
    "h.topology()\n",
    "\n",
    "# inject current\n",
    "\n",
    "voltage_np, time_np = inject_current(somaLength = 12.6157,\n",
    "somaDiam = 12.6157, stimDur = 10, stimAmp = 0.05, stimDelay = 10, total_time = 25)\n",
    "\n",
    "\n",
    "# plot \n",
    "import seaborn as sns \n",
    "ax = sns.lineplot(time_np, voltage_np)\n",
    "ax.set(xlabel='Time (ms)', ylabel='Voltage (V)')\n",
    "sns.despine()\n",
    "\n",
    "print(time_np)\n"
   ]
  }
 ],
 "metadata": {
  "kernelspec": {
   "display_name": "Python 3",
   "language": "python",
   "name": "python3"
  },
  "language_info": {
   "codemirror_mode": {
    "name": "ipython",
    "version": 3
   },
   "file_extension": ".py",
   "mimetype": "text/x-python",
   "name": "python",
   "nbconvert_exporter": "python",
   "pygments_lexer": "ipython3",
   "version": "3.6.6"
  },
  "toc": {
   "base_numbering": 1,
   "nav_menu": {},
   "number_sections": true,
   "sideBar": true,
   "skip_h1_title": false,
   "title_cell": "Table of Contents",
   "title_sidebar": "Contents",
   "toc_cell": false,
   "toc_position": {},
   "toc_section_display": true,
   "toc_window_display": false
  },
  "varInspector": {
   "cols": {
    "lenName": 16,
    "lenType": 16,
    "lenVar": 40
   },
   "kernels_config": {
    "python": {
     "delete_cmd_postfix": "",
     "delete_cmd_prefix": "del ",
     "library": "var_list.py",
     "varRefreshCmd": "print(var_dic_list())"
    },
    "r": {
     "delete_cmd_postfix": ") ",
     "delete_cmd_prefix": "rm(",
     "library": "var_list.r",
     "varRefreshCmd": "cat(var_dic_list()) "
    }
   },
   "types_to_exclude": [
    "module",
    "function",
    "builtin_function_or_method",
    "instance",
    "_Feature"
   ],
   "window_display": false
  }
 },
 "nbformat": 4,
 "nbformat_minor": 2
}
