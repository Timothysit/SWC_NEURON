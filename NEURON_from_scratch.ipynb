{
 "cells": [
  {
   "cell_type": "markdown",
   "metadata": {},
   "source": [
    "# What is NEURON?\n",
    "\n",
    "`NEURON` is a neuron simulation software\n",
    "\n",
    "## Resources\n",
    "\n",
    "- [Modeling in Python-NEURON. Michael Hines](https://pdfs.semanticscholar.org/presentation/7281/4bf04a55bbb3f2c30b4d32856dcd6326c28a.pdf)\n",
    "- [Using PyNeuron-Toolbox to replace InterViews](https://github.com/ahwillia/PyNeuron-Toolbox)\n",
    "- [Neuron forum](https://www.neuron.yale.edu/phpBB/index.php)\\\n",
    "- [HOC Kernel for Jupyter](https://www.neuron.yale.edu/phpBB/viewtopic.php?t=3858)"
   ]
  },
  {
   "cell_type": "markdown",
   "metadata": {},
   "source": [
    "# Importing NEURON"
   ]
  },
  {
   "cell_type": "code",
   "execution_count": 1,
   "metadata": {},
   "outputs": [],
   "source": [
    "from neuron import h, gui\n",
    "from PyNeuronToolbox.morphology import shapeplot\n",
    "import matplotlib.pyplot as plt"
   ]
  },
  {
   "cell_type": "markdown",
   "metadata": {},
   "source": [
    "# Creating and naming sections"
   ]
  },
  {
   "cell_type": "code",
   "execution_count": 2,
   "metadata": {},
   "outputs": [],
   "source": [
    "dend1 = h.Section()\n",
    "\n",
    "# naming a section \n",
    "dend2 = h.Section(name = 'apical')"
   ]
  },
  {
   "cell_type": "markdown",
   "metadata": {},
   "source": [
    "## View Section properties"
   ]
  },
  {
   "cell_type": "code",
   "execution_count": 43,
   "metadata": {},
   "outputs": [
    {
     "name": "stdout",
     "output_type": "stream",
     "text": [
      "__nrnsec_0x1fa8310 { nseg=1  L=100  Ra=35.4\n",
      "\t/*location 0 attached to cell 0*/\n",
      "\t/* First segment only */\n",
      "\tinsert morphology { diam=2}\n",
      "\tinsert capacitance { cm=1}\n",
      "}\n"
     ]
    },
    {
     "data": {
      "text/plain": [
       "['L',\n",
       " 'Ra',\n",
       " '__call__',\n",
       " '__class__',\n",
       " '__delattr__',\n",
       " '__dir__',\n",
       " '__doc__',\n",
       " '__eq__',\n",
       " '__format__',\n",
       " '__ge__',\n",
       " '__getattribute__',\n",
       " '__gt__',\n",
       " '__hash__',\n",
       " '__init__',\n",
       " '__init_subclass__',\n",
       " '__iter__',\n",
       " '__le__',\n",
       " '__lt__',\n",
       " '__module__',\n",
       " '__ne__',\n",
       " '__new__',\n",
       " '__reduce__',\n",
       " '__reduce_ex__',\n",
       " '__repr__',\n",
       " '__setattr__',\n",
       " '__sizeof__',\n",
       " '__str__',\n",
       " '__subclasshook__',\n",
       " 'allseg',\n",
       " 'arc3d',\n",
       " 'cell',\n",
       " 'children',\n",
       " 'connect',\n",
       " 'diam3d',\n",
       " 'has_membrane',\n",
       " 'hname',\n",
       " 'hoc_internal_name',\n",
       " 'insert',\n",
       " 'is_pysec',\n",
       " 'n3d',\n",
       " 'name',\n",
       " 'nseg',\n",
       " 'orientation',\n",
       " 'parentseg',\n",
       " 'psection',\n",
       " 'pt3dadd',\n",
       " 'pt3dchange',\n",
       " 'pt3dclear',\n",
       " 'pt3dinsert',\n",
       " 'pt3dremove',\n",
       " 'pt3dstyle',\n",
       " 'push',\n",
       " 'rallbranch',\n",
       " 'same',\n",
       " 'spine3d',\n",
       " 'trueparentseg',\n",
       " 'uninsert',\n",
       " 'x3d',\n",
       " 'y3d',\n",
       " 'z3d']"
      ]
     },
     "execution_count": 43,
     "metadata": {},
     "output_type": "execute_result"
    },
    {
     "data": {
      "application/javascript": [
       "neuron_javascript_embedder(\"set_neuron_section_data([[[0.0, 50.0, 100.0], [0.0, 0.0, 0.0], [0.0, 0.0, 0.0], [2.0, 2.0, 2.0], [0.0, 50.0, 100.0]], [[100.0, 105.0, 110.0], [0.0, 0.0, 0.0], [0.0, 0.0, 0.0], [500.0, 500.0, 500.0], [0.0, 5.0, 10.0]], [[0.0, 50.0, 100.0], [0.0, 0.0, 0.0], [200.0, 200.0, 200.0], [500.0, 500.0, 500.0], [0.0, 50.0, 100.0]], [[0.0, 50.0, 100.0], [0.0, 0.0, 0.0], [300.0, 300.0, 300.0], [500.0, 500.0, 500.0], [0.0, 50.0, 100.0]], [[0.0, 50.0, 100.0], [0.0, 0.0, 0.0], [300.0, 300.0, 300.0], [500.0, 500.0, 500.0], [0.0, 50.0, 100.0]]]);\")"
      ],
      "text/plain": [
       "<IPython.core.display.Javascript object>"
      ]
     },
     "metadata": {},
     "output_type": "display_data"
    },
    {
     "data": {
      "application/javascript": [
       "neuron_javascript_embedder(\"sp056a22cf62524a86b9e6111a37713870.update()\")"
      ],
      "text/plain": [
       "<IPython.core.display.Javascript object>"
      ]
     },
     "metadata": {},
     "output_type": "display_data"
    },
    {
     "data": {
      "application/javascript": [
       "neuron_javascript_embedder(\"sp056a22cf62524a86b9e6111a37713870.update()\")"
      ],
      "text/plain": [
       "<IPython.core.display.Javascript object>"
      ]
     },
     "metadata": {},
     "output_type": "display_data"
    },
    {
     "data": {
      "application/javascript": [
       "neuron_javascript_embedder(\"sp056a22cf62524a86b9e6111a37713870.update_colors([null, null, null, null, null])\")"
      ],
      "text/plain": [
       "<IPython.core.display.Javascript object>"
      ]
     },
     "metadata": {},
     "output_type": "display_data"
    }
   ],
   "source": [
    "soma = h.Section(name = 'soma')\n",
    "h.psection()\n",
    "dir(soma)"
   ]
  },
  {
   "cell_type": "markdown",
   "metadata": {},
   "source": [
    "## Connecting sections"
   ]
  },
  {
   "cell_type": "code",
   "execution_count": 3,
   "metadata": {},
   "outputs": [
    {
     "data": {
      "text/plain": [
       "apical"
      ]
     },
     "execution_count": 3,
     "metadata": {},
     "output_type": "execute_result"
    }
   ],
   "source": [
    "dend2.connect(dend1(1))\n",
    "# each section has a 0- and a 1-end \n",
    "# the 0-end of a section is attached to the 1-end of a section closer to the soma "
   ]
  },
  {
   "cell_type": "markdown",
   "metadata": {},
   "source": [
    "## Length and diameter"
   ]
  },
  {
   "cell_type": "code",
   "execution_count": 16,
   "metadata": {},
   "outputs": [
    {
     "data": {
      "application/javascript": [
       "neuron_javascript_embedder(\"set_neuron_section_data([[[0.0, 0.5, 1.0], [0.0, 0.0, 0.0], [0.0, 0.0, 0.0], [3.0, 3.0, 3.0], [0.0, 0.5, 1.0]], [[1.0, 6.0, 11.0], [0.0, 0.0, 0.0], [0.0, 0.0, 0.0], [0.5, 0.5, 0.5], [0.0, 5.0, 10.0]]]);\")"
      ],
      "text/plain": [
       "<IPython.core.display.Javascript object>"
      ]
     },
     "metadata": {},
     "output_type": "display_data"
    },
    {
     "data": {
      "application/javascript": [
       "neuron_javascript_embedder(\"sp7d317666f2894e8bbccab251eb964d34.update()\")"
      ],
      "text/plain": [
       "<IPython.core.display.Javascript object>"
      ]
     },
     "metadata": {},
     "output_type": "display_data"
    },
    {
     "data": {
      "application/javascript": [
       "neuron_javascript_embedder(\"sp7d317666f2894e8bbccab251eb964d34.update()\")"
      ],
      "text/plain": [
       "<IPython.core.display.Javascript object>"
      ]
     },
     "metadata": {},
     "output_type": "display_data"
    },
    {
     "data": {
      "application/javascript": [
       "neuron_javascript_embedder(\"sp7d317666f2894e8bbccab251eb964d34.update_colors([null, null])\")"
      ],
      "text/plain": [
       "<IPython.core.display.Javascript object>"
      ]
     },
     "metadata": {},
     "output_type": "display_data"
    }
   ],
   "source": [
    "dend1.diam = 3 \n",
    "dend1.L = 1\n",
    "\n",
    "dend2.diam = 0.5\n",
    "dend2.L = 10\n",
    "# the default diameter is based on a squid giant axon "
   ]
  },
  {
   "cell_type": "markdown",
   "metadata": {},
   "source": [
    "## Output topology of sections"
   ]
  },
  {
   "cell_type": "code",
   "execution_count": 5,
   "metadata": {},
   "outputs": [
    {
     "name": "stdout",
     "output_type": "stream",
     "text": [
      "|-|       __nrnsec_0x1969d10(0-1)\n",
      "   `|       apical(0-1)\n",
      "\n"
     ]
    }
   ],
   "source": [
    "# text-based print of the morhology\n",
    "h.topology()\n",
    "\n",
    "# window print of the morphology \n",
    "ps = h.PlotShape()\n",
    "# use 1 instead of 0 to hide diams\n",
    "# ps.printfile('/home/timothysit/Dropbox/notes/org-wiki/NEURON/test.eps')"
   ]
  },
  {
   "cell_type": "markdown",
   "metadata": {},
   "source": [
    "### An attempt to use shapeplot "
   ]
  },
  {
   "cell_type": "markdown",
   "metadata": {},
   "source": [
    "### Attempt to use HOC kernel for jupyter"
   ]
  },
  {
   "cell_type": "code",
   "execution_count": 10,
   "metadata": {},
   "outputs": [
    {
     "data": {
      "application/vnd.jupyter.widget-view+json": {
       "model_id": "cb272caaba96412b91e7749ccf9b2b27",
       "version_major": 2,
       "version_minor": 0
      },
      "text/plain": [
       "HBox(children=(Output(), Select(options=('No coloration',), value='No coloration')))"
      ]
     },
     "metadata": {},
     "output_type": "display_data"
    },
    {
     "data": {
      "text/html": [
       "<script>sp7d317666f2894e8bbccab251eb964d34 = new ShapePlot(\"7d317666f2894e8bbccab251eb964d34\");</script>"
      ],
      "text/plain": [
       "<IPython.core.display.HTML object>"
      ]
     },
     "metadata": {},
     "output_type": "display_data"
    },
    {
     "data": {
      "application/javascript": [
       "neuron_javascript_embedder(\"sp7d317666f2894e8bbccab251eb964d34.mode=0; sp7d317666f2894e8bbccab251eb964d34.update()\")"
      ],
      "text/plain": [
       "<IPython.core.display.Javascript object>"
      ]
     },
     "metadata": {},
     "output_type": "display_data"
    }
   ],
   "source": [
    "from neuron import gui2, h, rxd \n",
    "gui2.set_backend('jupyter')\n",
    "# h.load_file('geo5038804.hoc')\n",
    "ps = gui2.PlotShape()\n",
    "# ps.variable('v')\n",
    "ps.show(0)"
   ]
  },
  {
   "cell_type": "markdown",
   "metadata": {},
   "source": [
    "# Setting and reading paramters"
   ]
  },
  {
   "cell_type": "markdown",
   "metadata": {},
   "source": [
    "## Distributed mechanisms"
   ]
  },
  {
   "cell_type": "code",
   "execution_count": null,
   "metadata": {},
   "outputs": [],
   "source": [
    "# use .insert \n",
    "axon = h.Section(name = 'axon')\n",
    "axon.insert('hh')"
   ]
  },
  {
   "cell_type": "markdown",
   "metadata": {},
   "source": [
    "## Point Processes"
   ]
  },
  {
   "cell_type": "code",
   "execution_count": null,
   "metadata": {},
   "outputs": [],
   "source": [
    "soma = h.Section(name = 'soma')\n",
    "pp = h.IClamp(soma(0.5))"
   ]
  },
  {
   "cell_type": "markdown",
   "metadata": {},
   "source": [
    "# Running simulations"
   ]
  },
  {
   "cell_type": "code",
   "execution_count": null,
   "metadata": {},
   "outputs": [],
   "source": [
    "# initisliase a simulation to -65mV \n",
    "h.finitialize(-65)\n",
    "\n",
    "# run a simulation until t = 50ms \n",
    "h.continuerun(50)\n",
    "\n",
    "# control time steps (of recordings???)\n",
    "h.dt = 0.1\n",
    "\n",
    "# enable variable step (allows error control, but what does this mean???)\n",
    "h.cvode_active(1)"
   ]
  },
  {
   "cell_type": "markdown",
   "metadata": {},
   "source": [
    "## Recording data"
   ]
  },
  {
   "cell_type": "code",
   "execution_count": null,
   "metadata": {},
   "outputs": [],
   "source": [
    "# create a Vector to store things\n",
    "data = h.Vector()\n",
    "data.record(soma(0.3).ref_ina)\n",
    "\n",
    "# record time\n",
    "time = h.Vector()\n",
    "time.record(h._ref_t)"
   ]
  },
  {
   "cell_type": "markdown",
   "metadata": {},
   "source": [
    "# Biophysics"
   ]
  },
  {
   "cell_type": "code",
   "execution_count": null,
   "metadata": {},
   "outputs": [],
   "source": [
    "# insert a passive mechanism\n",
    "soma.insert('pas')"
   ]
  },
  {
   "cell_type": "markdown",
   "metadata": {},
   "source": [
    "# Example: Ball-and-stick model"
   ]
  },
  {
   "cell_type": "code",
   "execution_count": null,
   "metadata": {},
   "outputs": [],
   "source": []
  }
 ],
 "metadata": {
  "kernelspec": {
   "display_name": "Python 3",
   "language": "python",
   "name": "python3"
  },
  "language_info": {
   "codemirror_mode": {
    "name": "ipython",
    "version": 3
   },
   "file_extension": ".py",
   "mimetype": "text/x-python",
   "name": "python",
   "nbconvert_exporter": "python",
   "pygments_lexer": "ipython3",
   "version": "3.6.6"
  },
  "toc": {
   "base_numbering": 1,
   "nav_menu": {},
   "number_sections": true,
   "sideBar": true,
   "skip_h1_title": false,
   "title_cell": "Table of Contents",
   "title_sidebar": "Contents",
   "toc_cell": false,
   "toc_position": {},
   "toc_section_display": true,
   "toc_window_display": false
  },
  "varInspector": {
   "cols": {
    "lenName": 16,
    "lenType": 16,
    "lenVar": 40
   },
   "kernels_config": {
    "python": {
     "delete_cmd_postfix": "",
     "delete_cmd_prefix": "del ",
     "library": "var_list.py",
     "varRefreshCmd": "print(var_dic_list())"
    },
    "r": {
     "delete_cmd_postfix": ") ",
     "delete_cmd_prefix": "rm(",
     "library": "var_list.r",
     "varRefreshCmd": "cat(var_dic_list()) "
    }
   },
   "types_to_exclude": [
    "module",
    "function",
    "builtin_function_or_method",
    "instance",
    "_Feature"
   ],
   "window_display": false
  }
 },
 "nbformat": 4,
 "nbformat_minor": 2
}
